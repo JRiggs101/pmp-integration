{
 "cells": [
  {
   "cell_type": "code",
   "execution_count": 3,
   "metadata": {},
   "outputs": [],
   "source": [
    "import polars as pl"
   ]
  },
  {
   "cell_type": "code",
   "execution_count": 4,
   "metadata": {},
   "outputs": [
    {
     "ename": "SchemaFieldNotFoundError",
     "evalue": "DEA Number\n\nError originated just after this operation:\nErrorStateSync(AlreadyEncountered(field not found: DEA Number))\n\n  Csv SCAN data/Error Details.csv\n  PROJECT */1 COLUMNS\n\nError originated just after this operation:\nErrorStateSync(AlreadyEncountered(field not found: DEA Number\n\nError originated just after this operation:\nErrorStateSync(AlreadyEncountered(field not found: DEA Number))\n\n  Csv SCAN data/Error Details.csv\n  PROJECT */1 COLUMNS))\nErrorStateSync(AlreadyEncountered(field not found: DEA Number))\n\n  Csv SCAN data/Error Details.csv\n  PROJECT */1 COLUMNS",
     "output_type": "error",
     "traceback": [
      "\u001b[0;31m---------------------------------------------------------------------------\u001b[0m",
      "\u001b[0;31mSchemaFieldNotFoundError\u001b[0m                  Traceback (most recent call last)",
      "Cell \u001b[0;32mIn[4], line 13\u001b[0m\n\u001b[1;32m      1\u001b[0m q \u001b[38;5;241m=\u001b[39m (\n\u001b[1;32m      2\u001b[0m     pl\u001b[38;5;241m.\u001b[39mscan_csv(\u001b[38;5;124m'\u001b[39m\u001b[38;5;124mdata/Error Details.csv\u001b[39m\u001b[38;5;124m'\u001b[39m, infer_schema_length\u001b[38;5;241m=\u001b[39m\u001b[38;5;241m10000\u001b[39m)\n\u001b[1;32m      3\u001b[0m     \u001b[38;5;241m.\u001b[39mrename(\n\u001b[0;32m   (...)\u001b[0m\n\u001b[1;32m     10\u001b[0m     \u001b[38;5;241m.\u001b[39msort(by\u001b[38;5;241m=\u001b[39m\u001b[38;5;124m'\u001b[39m\u001b[38;5;124mcount\u001b[39m\u001b[38;5;124m'\u001b[39m, descending\u001b[38;5;241m=\u001b[39m\u001b[38;5;28;01mTrue\u001b[39;00m)\n\u001b[1;32m     11\u001b[0m )\n\u001b[0;32m---> 13\u001b[0m \u001b[43mq\u001b[49m\u001b[38;5;241;43m.\u001b[39;49m\u001b[43mcollect\u001b[49m\u001b[43m(\u001b[49m\u001b[43m)\u001b[49m\u001b[38;5;241m.\u001b[39mwrite_csv(\u001b[38;5;124m'\u001b[39m\u001b[38;5;124mdata/dea_error_nums.csv\u001b[39m\u001b[38;5;124m'\u001b[39m)\n",
      "File \u001b[0;32m~/.virtualenvs/work/lib/python3.11/site-packages/polars/utils/deprecation.py:100\u001b[0m, in \u001b[0;36mdeprecate_renamed_parameter.<locals>.decorate.<locals>.wrapper\u001b[0;34m(*args, **kwargs)\u001b[0m\n\u001b[1;32m     95\u001b[0m \u001b[38;5;129m@wraps\u001b[39m(function)\n\u001b[1;32m     96\u001b[0m \u001b[38;5;28;01mdef\u001b[39;00m \u001b[38;5;21mwrapper\u001b[39m(\u001b[38;5;241m*\u001b[39margs: P\u001b[38;5;241m.\u001b[39margs, \u001b[38;5;241m*\u001b[39m\u001b[38;5;241m*\u001b[39mkwargs: P\u001b[38;5;241m.\u001b[39mkwargs) \u001b[38;5;241m-\u001b[39m\u001b[38;5;241m>\u001b[39m T:\n\u001b[1;32m     97\u001b[0m     _rename_keyword_argument(\n\u001b[1;32m     98\u001b[0m         old_name, new_name, kwargs, function\u001b[38;5;241m.\u001b[39m\u001b[38;5;18m__name__\u001b[39m, version\n\u001b[1;32m     99\u001b[0m     )\n\u001b[0;32m--> 100\u001b[0m     \u001b[38;5;28;01mreturn\u001b[39;00m \u001b[43mfunction\u001b[49m\u001b[43m(\u001b[49m\u001b[38;5;241;43m*\u001b[39;49m\u001b[43margs\u001b[49m\u001b[43m,\u001b[49m\u001b[43m \u001b[49m\u001b[38;5;241;43m*\u001b[39;49m\u001b[38;5;241;43m*\u001b[39;49m\u001b[43mkwargs\u001b[49m\u001b[43m)\u001b[49m\n",
      "File \u001b[0;32m~/.virtualenvs/work/lib/python3.11/site-packages/polars/lazyframe/frame.py:1788\u001b[0m, in \u001b[0;36mLazyFrame.collect\u001b[0;34m(self, type_coercion, predicate_pushdown, projection_pushdown, simplify_expression, slice_pushdown, comm_subplan_elim, comm_subexpr_elim, no_optimization, streaming, _eager)\u001b[0m\n\u001b[1;32m   1775\u001b[0m     comm_subplan_elim \u001b[38;5;241m=\u001b[39m \u001b[38;5;28;01mFalse\u001b[39;00m\n\u001b[1;32m   1777\u001b[0m ldf \u001b[38;5;241m=\u001b[39m \u001b[38;5;28mself\u001b[39m\u001b[38;5;241m.\u001b[39m_ldf\u001b[38;5;241m.\u001b[39moptimization_toggle(\n\u001b[1;32m   1778\u001b[0m     type_coercion,\n\u001b[1;32m   1779\u001b[0m     predicate_pushdown,\n\u001b[0;32m   (...)\u001b[0m\n\u001b[1;32m   1786\u001b[0m     _eager,\n\u001b[1;32m   1787\u001b[0m )\n\u001b[0;32m-> 1788\u001b[0m \u001b[38;5;28;01mreturn\u001b[39;00m wrap_df(\u001b[43mldf\u001b[49m\u001b[38;5;241;43m.\u001b[39;49m\u001b[43mcollect\u001b[49m\u001b[43m(\u001b[49m\u001b[43m)\u001b[49m)\n",
      "\u001b[0;31mSchemaFieldNotFoundError\u001b[0m: DEA Number\n\nError originated just after this operation:\nErrorStateSync(AlreadyEncountered(field not found: DEA Number))\n\n  Csv SCAN data/Error Details.csv\n  PROJECT */1 COLUMNS\n\nError originated just after this operation:\nErrorStateSync(AlreadyEncountered(field not found: DEA Number\n\nError originated just after this operation:\nErrorStateSync(AlreadyEncountered(field not found: DEA Number))\n\n  Csv SCAN data/Error Details.csv\n  PROJECT */1 COLUMNS))\nErrorStateSync(AlreadyEncountered(field not found: DEA Number))\n\n  Csv SCAN data/Error Details.csv\n  PROJECT */1 COLUMNS"
     ]
    }
   ],
   "source": [
    "q = (\n",
    "    pl.scan_csv('data/Error Details_data.csv', infer_schema_length=10000)\n",
    "    .rename(\n",
    "        {'DEA Number':'dea', 'Pharmacy Name':'pharmacy', 'License Number':'license', 'Dispensary State':'state', 'Dispensation ID':'dispensation_ID', \n",
    "        'Submission Date':'submission_date', 'File Name':'file_name', 'RX Number':'rx_number', 'Days Outstanding':'days_outstanding','Pharmacist Phone':'pharm_phone',\n",
    "        'Pharmacist Email':'pharm_email', 'Submitter':'submitter', 'Submitter Phone':'submitter_phone', 'Submitter Email':'submitter_email', 'Written At':'written',\n",
    "        'Filled At':'filled', 'Sold At':'sold', 'Days Supply':'supply', 'Quantity':'quantity', 'Refill Number':'refills'}\n",
    "    )\n",
    "    .group_by('dea').count()\n",
    "    .sort(by='count', descending=True)\n",
    ")\n",
    "\n",
    "q.collect().write_csv('data/dea_error_nums.csv')"
   ]
  }
 ],
 "metadata": {
  "kernelspec": {
   "display_name": "work",
   "language": "python",
   "name": "python3"
  },
  "language_info": {
   "codemirror_mode": {
    "name": "ipython",
    "version": 3
   },
   "file_extension": ".py",
   "mimetype": "text/x-python",
   "name": "python",
   "nbconvert_exporter": "python",
   "pygments_lexer": "ipython3",
   "version": "3.11.6"
  }
 },
 "nbformat": 4,
 "nbformat_minor": 2
}
