{
 "cells": [
  {
   "cell_type": "code",
   "execution_count": 24,
   "metadata": {},
   "outputs": [],
   "source": [
    "import polars as pl"
   ]
  },
  {
   "cell_type": "markdown",
   "metadata": {},
   "source": [
    "# The Code below gives the amount of errors per DEA"
   ]
  },
  {
   "cell_type": "code",
   "execution_count": 25,
   "metadata": {},
   "outputs": [],
   "source": [
    "q = (\n",
    "    pl.scan_csv('data/Errors2_data.csv', infer_schema_length=10000)\n",
    "    .rename(\n",
    "        {'DEA Number':'dea', 'Pharmacy Name':'pharmacy', 'License Number':'license', 'File Name':'file_name', 'Dispensation ID':'dispensation_ID', \n",
    "        'Submission Date':'submission_date', 'RX Number':'rx_number', 'Pharmacist Phone':'pharm_phone',\n",
    "        'Pharmacist Email':'pharm_email', 'Written At':'written', 'Filled At':'filled', 'Sold At':'sold', 'Refill Number':'refills', \n",
    "        'Days Supply':'supply', 'Outstanding Age in Days': 'outstanding_days', 'Quantity':'quantity'}\n",
    "    )\n",
    "    .group_by('dea').len()\n",
    "    .sort(by='len', descending=True)\n",
    ")\n",
    "\n",
    "q.collect().write_csv('data/dea_error_nums.csv')"
   ]
  }
 ],
 "metadata": {
  "kernelspec": {
   "display_name": "work",
   "language": "python",
   "name": "python3"
  },
  "language_info": {
   "codemirror_mode": {
    "name": "ipython",
    "version": 3
   },
   "file_extension": ".py",
   "mimetype": "text/x-python",
   "name": "python",
   "nbconvert_exporter": "python",
   "pygments_lexer": "ipython3",
   "version": "3.11.6"
  }
 },
 "nbformat": 4,
 "nbformat_minor": 2
}
