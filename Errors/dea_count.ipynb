{
 "cells": [
  {
   "cell_type": "code",
   "execution_count": 2,
   "metadata": {},
   "outputs": [],
   "source": [
    "import polars as pl"
   ]
  },
  {
   "cell_type": "code",
   "execution_count": null,
   "metadata": {},
   "outputs": [],
   "source": [
    "q = (\n",
    "    pl.scan_csv('data/Error Details.csv', infer_schema_length=10000)\n",
    "    .rename(\n",
    "        {'DEA Number':'dea', 'Pharmacy Name':'pharmacy', 'License Number':'license', 'Dispensary State':'state', 'Dispensation ID':'dispensation_ID', \n",
    "        'Submission Date':'submission_date', 'File Name':'file_name', 'RX Number':'rx_number', 'Days Outstanding':'days_outstanding','Pharmacist Phone':'pharm_phone',\n",
    "        'Pharmacist Email':'pharm_email', 'Submitter':'submitter', 'Submitter Phone':'submitter_phone', 'Submitter Email':'submitter_email', 'Written At':'written',\n",
    "        'Filled At':'filled', 'Sold At':'sold', 'Days Supply':'supply', 'Quantity':'quantity', 'Refill Number':'refills'}\n",
    "    )\n",
    "    .group_by('dea').count()\n",
    "    .sort(by='count', descending=True)\n",
    ")\n",
    "\n",
    "q.collect().write_csv('data/dea_error_nums.csv')"
   ]
  }
 ],
 "metadata": {
  "kernelspec": {
   "display_name": "work",
   "language": "python",
   "name": "python3"
  },
  "language_info": {
   "codemirror_mode": {
    "name": "ipython",
    "version": 3
   },
   "file_extension": ".py",
   "mimetype": "text/x-python",
   "name": "python",
   "nbconvert_exporter": "python",
   "pygments_lexer": "ipython3",
   "version": "3.11.6"
  }
 },
 "nbformat": 4,
 "nbformat_minor": 2
}
