{
 "cells": [
  {
   "cell_type": "code",
   "execution_count": 146,
   "metadata": {},
   "outputs": [],
   "source": [
    "import polars as pl\n",
    "from Levenshtein import ratio"
   ]
  },
  {
   "cell_type": "markdown",
   "metadata": {},
   "source": [
    "Constants"
   ]
  },
  {
   "cell_type": "code",
   "execution_count": 147,
   "metadata": {},
   "outputs": [],
   "source": [
    "RATIO = .7 # similarity between T&Cs and gateway list\n",
    "PARTIAL_RATIO = .5"
   ]
  },
  {
   "cell_type": "code",
   "execution_count": 148,
   "metadata": {},
   "outputs": [],
   "source": [
    "terms = (\n",
    "    pl.scan_csv(\"data/terms.csv\", infer_schema_length=10000)\n",
    "    \n",
    ")"
   ]
  },
  {
   "cell_type": "code",
   "execution_count": 149,
   "metadata": {},
   "outputs": [],
   "source": [
    "gateway = (\n",
    "    pl.scan_csv('data/gateway_connections.csv', infer_schema_length=10000)\n",
    "    .with_columns(\n",
    "        pl.col('Licensee').str.replace_all(r'\\([^)]*\\)', '').alias('Licnesee_split')\n",
    "        #strip_chars().str.split('(AZ)').alias('stripped_licensee')\n",
    "    )\n",
    ")\n"
   ]
  },
  {
   "cell_type": "code",
   "execution_count": 150,
   "metadata": {},
   "outputs": [
    {
     "data": {
      "text/plain": [
       "<xlsxwriter.workbook.Workbook at 0x7f52ea612dd0>"
      ]
     },
     "execution_count": 150,
     "metadata": {},
     "output_type": "execute_result"
    }
   ],
   "source": [
    "gateway.collect().write_excel(\n",
    "    'data/test.xlsx',\n",
    "    worksheet='match',\n",
    "    autofit=True,\n",
    "    freeze_panes=((1,0,0,0))\n",
    ")"
   ]
  }
 ],
 "metadata": {
  "kernelspec": {
   "display_name": "mu",
   "language": "python",
   "name": "python3"
  },
  "language_info": {
   "codemirror_mode": {
    "name": "ipython",
    "version": 3
   },
   "file_extension": ".py",
   "mimetype": "text/x-python",
   "name": "python",
   "nbconvert_exporter": "python",
   "pygments_lexer": "ipython3",
   "version": "3.11.6"
  }
 },
 "nbformat": 4,
 "nbformat_minor": 2
}
