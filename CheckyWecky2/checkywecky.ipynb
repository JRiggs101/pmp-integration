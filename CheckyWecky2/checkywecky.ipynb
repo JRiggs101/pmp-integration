{
 "cells": [
  {
   "cell_type": "code",
   "execution_count": null,
   "metadata": {},
   "outputs": [],
   "source": [
    "import polars as pl\n",
    "from Levenshtein import ratio"
   ]
  },
  {
   "cell_type": "markdown",
   "metadata": {},
   "source": [
    "Constants"
   ]
  },
  {
   "cell_type": "code",
   "execution_count": null,
   "metadata": {},
   "outputs": [],
   "source": [
    "RATIO = .7 # similarity between T&Cs and gateway list\n",
    "PARTIAL_RATIO = .5"
   ]
  },
  {
   "cell_type": "code",
   "execution_count": null,
   "metadata": {},
   "outputs": [],
   "source": [
    "terms = (\n",
    "    pl.scan_csv(\"data/terms.csv\", infer_schema_length=10000) \n",
    ")"
   ]
  },
  {
   "cell_type": "code",
   "execution_count": null,
   "metadata": {},
   "outputs": [],
   "source": [
    "gateway = (\n",
    "    pl.scan_csv('data/gateway_connections.csv', infer_schema_length=10000)\n",
    "    .with_columns(\n",
    "        pl.col('Licensee').str.replace_all(r'\\([^)]*\\)', '').str.strip_chars(' )').str.to_uppercase().alias('licensee_split'),\n",
    "    )\n",
    ")\n"
   ]
  },
  {
   "cell_type": "code",
   "execution_count": null,
   "metadata": {},
   "outputs": [],
   "source": [
    "combo = (\n",
    "    terms\n",
    "    .join(\n",
    "        gateway, left_on='org_name', right_on='Licensee', how='outer'\n",
    "    )\n",
    "    .drop(\n",
    "        'Address', 'State(s) Located In' , 'Business Type', 'Website', 'file',\n",
    "        'Date Requested',' Last Updated', '# of Prescribers', '# of Pharmacists', 'Last Updated'\n",
    "    )\n",
    "    .drop_nulls()\n",
    ")\n",
    "combo.collect()"
   ]
  },
  {
   "cell_type": "code",
   "execution_count": null,
   "metadata": {},
   "outputs": [],
   "source": [
    "combo.collect().write_excel(\n",
    "    'data/test.xlsx',\n",
    "    worksheet='match',\n",
    "    autofit=True,\n",
    "    freeze_panes=((1,0,0,0))\n",
    ")"
   ]
  }
 ],
 "metadata": {
  "kernelspec": {
   "display_name": "mu",
   "language": "python",
   "name": "python3"
  },
  "language_info": {
   "codemirror_mode": {
    "name": "ipython",
    "version": 3
   },
   "file_extension": ".py",
   "mimetype": "text/x-python",
   "name": "python",
   "nbconvert_exporter": "python",
   "pygments_lexer": "ipython3",
   "version": "3.11.6"
  }
 },
 "nbformat": 4,
 "nbformat_minor": 2
}
