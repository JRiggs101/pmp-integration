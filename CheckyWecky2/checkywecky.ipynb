{
 "cells": [
  {
   "cell_type": "code",
   "execution_count": 247,
   "metadata": {},
   "outputs": [],
   "source": [
    "import polars as pl\n",
    "from Levenshtein import ratio"
   ]
  },
  {
   "cell_type": "markdown",
   "metadata": {},
   "source": [
    "Constants"
   ]
  },
  {
   "cell_type": "code",
   "execution_count": 248,
   "metadata": {},
   "outputs": [],
   "source": [
    "RATIO = .7 # similarity between T&Cs and gateway list\n",
    "PARTIAL_RATIO = .5"
   ]
  },
  {
   "cell_type": "code",
   "execution_count": 249,
   "metadata": {},
   "outputs": [],
   "source": [
    "#1258\n",
    "terms = (\n",
    "    pl.scan_csv(\"data/terms.csv\", infer_schema_length=10000) \n",
    ")"
   ]
  },
  {
   "cell_type": "code",
   "execution_count": 250,
   "metadata": {},
   "outputs": [],
   "source": [
    "#1146\n",
    "gateway = (\n",
    "    pl.scan_csv('data/gateway_connections.csv', infer_schema_length=10000)\n",
    "    .with_columns(\n",
    "        pl.col('Licensee').str.replace_all(r'\\([^)]*\\)', '').str.strip_chars(' )').str.to_uppercase().alias('licensee_split'),\n",
    "    )\n",
    ")\n"
   ]
  },
  {
   "cell_type": "code",
   "execution_count": 251,
   "metadata": {},
   "outputs": [],
   "source": [
    "#Should be 112 extra in org_name\n",
    "combo = (\n",
    "    terms\n",
    "    .join(\n",
    "        gateway, how='left', left_on='org_name', right_on='licensee_split'\n",
    "    )\n",
    "    .collect()\n",
    "    .with_columns(\n",
    "        pl.col('org_name').map_elements(lambda x: PARTIAL_RATIO if x else RATIO).alias('ratio_check'),\n",
    "        \n",
    "        pl.col('Licensee').str.replace_all(r'\\([^)]*\\)', '').str.strip_chars(' )').str.to_uppercase(),\n",
    "    )\n",
    "    .lazy()\n",
    "   \n",
    ")\n"
   ]
  },
  {
   "cell_type": "code",
   "execution_count": 252,
   "metadata": {},
   "outputs": [],
   "source": [
    "idk = (\n",
    "    combo\n",
    "    .with_columns(\n",
    "        pl.struct(['org_name', 'Licensee']).map_elements(lambda x: ratio(x['org_name'], x['Licensee'])).alias('ratio')\n",
    "        \n",
    "    )\n",
    "     .select(\n",
    "       'file', 'org_name', 'Licensee', 'ratio'\n",
    "    )\n",
    ")"
   ]
  },
  {
   "cell_type": "code",
   "execution_count": 253,
   "metadata": {},
   "outputs": [
    {
     "data": {
      "text/plain": [
       "<xlsxwriter.workbook.Workbook at 0x7f16225b2450>"
      ]
     },
     "execution_count": 253,
     "metadata": {},
     "output_type": "execute_result"
    }
   ],
   "source": [
    "idk.collect().write_excel(\n",
    "    'data/test.xlsx',\n",
    "    worksheet='match',\n",
    "    autofit=True,\n",
    "    freeze_panes=((1,0,0,0))\n",
    ")"
   ]
  }
 ],
 "metadata": {
  "kernelspec": {
   "display_name": "mu",
   "language": "python",
   "name": "python3"
  },
  "language_info": {
   "codemirror_mode": {
    "name": "ipython",
    "version": 3
   },
   "file_extension": ".py",
   "mimetype": "text/x-python",
   "name": "python",
   "nbconvert_exporter": "python",
   "pygments_lexer": "ipython3",
   "version": "3.11.6"
  }
 },
 "nbformat": 4,
 "nbformat_minor": 2
}
