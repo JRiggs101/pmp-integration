{
 "cells": [
  {
   "cell_type": "code",
   "execution_count": null,
   "metadata": {},
   "outputs": [],
   "source": [
    "import polars as pl\n",
    "from fuzzywuzzy import process, fuzz"
   ]
  },
  {
   "cell_type": "code",
   "execution_count": null,
   "metadata": {},
   "outputs": [],
   "source": [
    "def fuzzymergy(gateway, terms):\n",
    "   tnc = terms.collect()['org_name'].to_list()\n",
    "   test_str = ''\n",
    "   print(process.extract(test_str, tnc, limit=1)[0][0])\n",
    "   print(process.extract(test_str, tnc, limit=1)[0][1])\n",
    "\n",
    "   result = (\n",
    "      gateway\n",
    "      .collect()\n",
    "      .with_columns(\n",
    "         pl.col('licensee_clean').map_elements(lambda x: process.extract(x, tnc, limit=1)[0][0]).alias('match'),\n",
    "         pl.col('licensee_clean').map_elements(lambda x: process.extract(x, tnc, limit=1)[0][1]).alias('score')\n",
    "      )\n",
    "    )\n",
    "   return result\n",
    "    "
   ]
  },
  {
   "cell_type": "code",
   "execution_count": null,
   "metadata": {},
   "outputs": [],
   "source": [
    "terms = (\n",
    "    pl.scan_csv(\"data/terms.csv\", infer_schema_length=10000)\n",
    "    .select('org_name')\n",
    ")\n"
   ]
  },
  {
   "cell_type": "code",
   "execution_count": null,
   "metadata": {},
   "outputs": [],
   "source": [
    "gateway = (\n",
    "    pl.scan_csv('data/gateway_connections.csv', infer_schema_length=10000)\n",
    "    .with_columns(\n",
    "        pl.col('Licensee').str.replace_all(r'\\([^)]*\\)', '').str.to_uppercase().str.strip_chars(' )').alias('licensee_clean'),\n",
    "    )\n",
    "    .select('licensee_clean')\n",
    ")\n"
   ]
  },
  {
   "cell_type": "code",
   "execution_count": null,
   "metadata": {},
   "outputs": [],
   "source": [
    "fuzzymergy(gateway=gateway, terms=terms).sort('score',descending=False).write_csv('data/checkywecky.csv')"
   ]
  }
 ],
 "metadata": {
  "kernelspec": {
   "display_name": "mu",
   "language": "python",
   "name": "python3"
  },
  "language_info": {
   "codemirror_mode": {
    "name": "ipython",
    "version": 3
   },
   "file_extension": ".py",
   "mimetype": "text/x-python",
   "name": "python",
   "nbconvert_exporter": "python",
   "pygments_lexer": "ipython3",
   "version": "3.11.6"
  }
 },
 "nbformat": 4,
 "nbformat_minor": 2
}
