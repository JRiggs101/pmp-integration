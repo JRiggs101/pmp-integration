{
 "cells": [
  {
   "cell_type": "code",
   "execution_count": null,
   "metadata": {},
   "outputs": [],
   "source": [
    "import polars as pl"
   ]
  },
  {
   "cell_type": "code",
   "execution_count": null,
   "metadata": {},
   "outputs": [],
   "source": [
    "gateway = (\n",
    "    pl.scan_csv('gateway_report.csv')\n",
    ")"
   ]
  },
  {
   "cell_type": "code",
   "execution_count": null,
   "metadata": {},
   "outputs": [],
   "source": [
    "granted = (\n",
    "    gateway\n",
    "    .group_by(by='Auth. Status')\n",
    "    .agg(pl.col('Licensee').count())\n",
    ")\n",
    "granted.collect()"
   ]
  },
  {
   "cell_type": "code",
   "execution_count": null,
   "metadata": {},
   "outputs": [],
   "source": [
    "state_collect = (\n",
    "    gateway\n",
    "    .select(\n",
    "        pl.col('State(s) Located In').value_counts(sort=True)\n",
    "    )\n",
    ")\n",
    "state_collect.collect()"
   ]
  },
  {
   "cell_type": "code",
   "execution_count": null,
   "metadata": {},
   "outputs": [],
   "source": [
    "states = ['AZ', 'CO', 'NM', 'NV']\n",
    "state_dfs = {}\n",
    "total = 0\n",
    "for state in states:\n",
    "    metrics = (\n",
    "        gateway  \n",
    "        .with_columns(\n",
    "            pl.col('Auth. Status').str.to_uppercase().fill_null('NA'),\n",
    "            pl.col('State(s) Located In').str.to_uppercase().fill_null('NA')\n",
    "        )\n",
    "        .filter(\n",
    "            pl.col('Auth. Status') != \"DENIED\", \n",
    "            pl.col('State(s) Located In').is_in(states),\n",
    "            pl.col('State(s) Located In').str.contains(state)\n",
    "        )\n",
    "    ).collect()\n",
    "    state_total = metrics.shape[0]\n",
    "    print(f'{state}: {state_total}')\n",
    "    total += state_total\n",
    "    state_dfs[state] = metrics\n",
    "print(f'{total = }')\n",
    "\n"
   ]
  },
  {
   "cell_type": "code",
   "execution_count": null,
   "metadata": {},
   "outputs": [],
   "source": [
    "from xlsxwriter import Workbook\n",
    "with Workbook(\"gateway_report_update.xlsx\") as wb:  \n",
    "    for state, df in state_dfs.items():\n",
    "        df.write_excel(\n",
    "            workbook=wb,\n",
    "            worksheet=state,\n",
    "            autofit=True,\n",
    "            freeze_panes=((1,0,0,0)\n",
    "        )\n",
    "    )"
   ]
  }
 ],
 "metadata": {
  "kernelspec": {
   "display_name": "pmp",
   "language": "python",
   "name": "python3"
  },
  "language_info": {
   "codemirror_mode": {
    "name": "ipython",
    "version": 3
   },
   "file_extension": ".py",
   "mimetype": "text/x-python",
   "name": "python",
   "nbconvert_exporter": "python",
   "pygments_lexer": "ipython3",
   "version": "3.11.6"
  }
 },
 "nbformat": 4,
 "nbformat_minor": 2
}
