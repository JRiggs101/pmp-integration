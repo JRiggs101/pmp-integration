{
 "cells": [
  {
   "cell_type": "code",
   "execution_count": null,
   "metadata": {},
   "outputs": [],
   "source": [
    "import polars as pl"
   ]
  },
  {
   "cell_type": "code",
   "execution_count": null,
   "metadata": {},
   "outputs": [],
   "source": [
    "granted = (\n",
    "    pl.scan_csv('gateway_report.csv', infer_schema_length=10000)\n",
    "    .select(\n",
    "        pl.col('Auth. Status').value_counts(sort=True)\n",
    "    )\n",
    ")\n",
    "granted.unique(maintain_order=True)\n",
    "granted.collect()"
   ]
  },
  {
   "cell_type": "code",
   "execution_count": null,
   "metadata": {},
   "outputs": [],
   "source": [
    "state_collect = (\n",
    "    pl.scan_csv('gateway_report.csv', infer_schema_length=10000)\n",
    "    .select(\n",
    "        pl.col('State(s) Located In').value_counts(sort=True)\n",
    "    )\n",
    "    \n",
    ")\n",
    "state_collect.unique(maintain_order=True)\n",
    "state_collect.collect()\n",
    "\n"
   ]
  },
  {
   "cell_type": "code",
   "execution_count": null,
   "metadata": {},
   "outputs": [],
   "source": [
    "metrics = (\n",
    "    pl.scan_csv('gateway_report.csv', infer_schema_length=10000)   \n",
    "    .with_columns(\n",
    "        pl.col('Auth. Status').str.to_uppercase().fill_null('NA'),\n",
    "        pl.col('State(s) Located In').str.to_uppercase().fill_null('NA')\n",
    "    )\n",
    "    .filter(\n",
    "        pl.col('Auth. Status') != \"DENIED\" \n",
    "        #pl.col('State(s) Located In').is_in(['AZ', 'CO', 'NM', 'NV'])\n",
    "        )\n",
    "    )\n",
    "metrics.collect()\n",
    "\n"
   ]
  },
  {
   "cell_type": "code",
   "execution_count": null,
   "metadata": {},
   "outputs": [],
   "source": [
    "metrics.collect().write_excel(\n",
    "    f'gateway_report_update.xlsx',\n",
    "    worksheet='AZ',\n",
    "    autofit=True,\n",
    "    freeze_panes=((1,0,0,0))\n",
    ")"
   ]
  }
 ],
 "metadata": {
  "kernelspec": {
   "display_name": "pmp",
   "language": "python",
   "name": "python3"
  },
  "language_info": {
   "codemirror_mode": {
    "name": "ipython",
    "version": 3
   },
   "file_extension": ".py",
   "mimetype": "text/x-python",
   "name": "python",
   "nbconvert_exporter": "python",
   "pygments_lexer": "ipython3",
   "version": "3.11.6"
  }
 },
 "nbformat": 4,
 "nbformat_minor": 2
}
